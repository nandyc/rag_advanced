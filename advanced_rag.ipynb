{
  "nbformat": 4,
  "nbformat_minor": 0,
  "metadata": {
    "colab": {
      "provenance": [],
      "authorship_tag": "ABX9TyNfvASWbvUO8yZ0H3YHpRIY",
      "include_colab_link": true
    },
    "kernelspec": {
      "name": "python3",
      "display_name": "Python 3"
    },
    "language_info": {
      "name": "python"
    }
  },
  "cells": [
    {
      "cell_type": "markdown",
      "metadata": {
        "id": "view-in-github",
        "colab_type": "text"
      },
      "source": [
        "<a href=\"https://colab.research.google.com/github/nandyc/rag_advanced/blob/main/advanced_rag.ipynb\" target=\"_parent\"><img src=\"https://colab.research.google.com/assets/colab-badge.svg\" alt=\"Open In Colab\"/></a>"
      ]
    },
    {
      "cell_type": "code",
      "execution_count": 1,
      "metadata": {
        "colab": {
          "base_uri": "https://localhost:8080/"
        },
        "id": "saMdkS7iYMRf",
        "outputId": "c7298583-5130-49ff-8f4c-9602b03703f5"
      },
      "outputs": [
        {
          "output_type": "stream",
          "name": "stdout",
          "text": [
            "Cloning into 'rag_advanced'...\n",
            "remote: Enumerating objects: 3, done.\u001b[K\n",
            "remote: Counting objects: 100% (3/3), done.\u001b[K\n",
            "remote: Total 3 (delta 0), reused 0 (delta 0), pack-reused 0 (from 0)\u001b[K\n",
            "Receiving objects: 100% (3/3), done.\n"
          ]
        }
      ],
      "source": [
        "!git clone https://github.com/nandyc/rag_advanced.git"
      ]
    },
    {
      "cell_type": "code",
      "source": [
        "%cd rag_advanced"
      ],
      "metadata": {
        "colab": {
          "base_uri": "https://localhost:8080/"
        },
        "id": "OtR0EjOFYhbE",
        "outputId": "e96adf97-2df8-4913-9ac6-039e09c5ada6"
      },
      "execution_count": 2,
      "outputs": [
        {
          "output_type": "stream",
          "name": "stdout",
          "text": [
            "/content/rag_advanced\n"
          ]
        }
      ]
    },
    {
      "cell_type": "code",
      "source": [
        "%%capture\n",
        "# !pip install python-dotenv\n",
        "!pip install openai\n",
        "!pip install chromadb\n",
        "!pip install tiktoken\n",
        "!pip install pypdf"
      ],
      "metadata": {
        "id": "UgS91MLAYxQf"
      },
      "execution_count": 3,
      "outputs": []
    },
    {
      "cell_type": "code",
      "source": [
        "# #helper_utils.py\n",
        "# # helper_utils.py\n",
        "# import numpy as np\n",
        "# import chromadb\n",
        "# import pandas as pd\n",
        "# from pypdf import PdfReader\n",
        "# import numpy as np\n",
        "\n",
        "\n",
        "# def project_embeddings(embeddings, umap_transform):\n",
        "#     \"\"\"\n",
        "#     Projects the given embeddings using the provided UMAP transformer.\n",
        "\n",
        "#     Args:\n",
        "#     embeddings (numpy.ndarray): The embeddings to project.\n",
        "#     umap_transform (umap.UMAP): The trained UMAP transformer.\n",
        "\n",
        "#     Returns:\n",
        "#     numpy.ndarray: The projected embeddings.\n",
        "#     \"\"\"\n",
        "#     projected_embeddings = umap_transform.transform(embeddings)\n",
        "#     return projected_embeddings\n",
        "\n",
        "\n",
        "# def word_wrap(text, width=87):\n",
        "#     \"\"\"\n",
        "#     Wraps the given text to the specified width.\n",
        "\n",
        "#     Args:\n",
        "#     text (str): The text to wrap.\n",
        "#     width (int): The width to wrap the text to.\n",
        "\n",
        "#     Returns:\n",
        "#     str: The wrapped text.\n",
        "#     \"\"\"\n",
        "#     return \"\\n\".join([text[i : i + width] for i in range(0, len(text), width)])\n",
        "\n",
        "\n",
        "# def extract_text_from_pdf(file_path):\n",
        "#     \"\"\"\n",
        "#     Extracts text from a PDF file.\n",
        "\n",
        "#     Args:\n",
        "#     file_path (str): The path to the PDF file.\n",
        "\n",
        "#     Returns:\n",
        "#     str: The extracted text.\n",
        "#     \"\"\"\n",
        "#     text = []\n",
        "#     with open(file_path, \"rb\") as f:\n",
        "#         pdf = PdfReader(f)\n",
        "#         for page_num in range(pdf.get_num_pages()):\n",
        "#             page = pdf.get_page(page_num)\n",
        "#             text.append(page.extract_text())\n",
        "#     return \"\\n\".join(text)\n",
        "\n",
        "\n",
        "# def load_chroma(filename, collection_name, embedding_function):\n",
        "#     \"\"\"\n",
        "#     Loads a document from a PDF, extracts text, generates embeddings, and stores it in a Chroma collection.\n",
        "\n",
        "#     Args:\n",
        "#     filename (str): The path to the PDF file.\n",
        "#     collection_name (str): The name of the Chroma collection.\n",
        "#     embedding_function (callable): A function to generate embeddings.\n",
        "\n",
        "#     Returns:\n",
        "#     chroma.Collection: The Chroma collection with the document embeddings.\n",
        "#     \"\"\"\n",
        "#     # Extract text from the PDF\n",
        "#     text = extract_text_from_pdf(filename)\n",
        "\n",
        "#     # Split text into paragraphs or chunks\n",
        "#     paragraphs = text.split(\"\\n\\n\")\n",
        "\n",
        "#     # Generate embeddings for each chunk\n",
        "#     embeddings = [embedding_function(paragraph) for paragraph in paragraphs]\n",
        "\n",
        "#     # Create a DataFrame to store text and embeddings\n",
        "#     data = {\"text\": paragraphs, \"embeddings\": embeddings}\n",
        "#     df = pd.DataFrame(data)\n",
        "\n",
        "#     # Create or load the Chroma collection\n",
        "\n",
        "#     collection = chromadb.Client().create_collection(collection_name)\n",
        "\n",
        "#     # Add the data to the Chroma collection\n",
        "#     for ids, row in df.iterrows():\n",
        "\n",
        "#         collection.add(ids=ids, documents=row[\"text\"], embeddings=row[\"embeddings\"])\n",
        "#         # collection.add(text=row[\"text\"], embedding=row[\"embeddings\"])\n",
        "\n",
        "#     return collection"
      ],
      "metadata": {
        "id": "zRylZlUgZd-0"
      },
      "execution_count": 4,
      "outputs": []
    },
    {
      "cell_type": "code",
      "source": [
        "import os\n",
        "import collections\n",
        "# from dotenv import load_dotenv\n",
        "from openai import OpenAI\n",
        "import chromadb\n",
        "from chromadb.utils import embedding_functions\n",
        "from google.colab import userdata"
      ],
      "metadata": {
        "id": "sBf6dWoJY0SM"
      },
      "execution_count": null,
      "outputs": []
    },
    {
      "cell_type": "code",
      "source": [
        "openai_key =userdata.get('OPENAI_APIKEY')"
      ],
      "metadata": {
        "id": "EYavO4X2Y4FZ"
      },
      "execution_count": null,
      "outputs": []
    },
    {
      "cell_type": "code",
      "source": [
        "from helper_utils import project_embeddings, word_wrap\n",
        "from pypdf import PdfReader\n",
        "import os\n",
        "from openai import OpenAI\n",
        "from dotenv import load_dotenv\n",
        "\n",
        "from pypdf import PdfReader\n",
        "import umap"
      ],
      "metadata": {
        "id": "RYXsCdxRZQju"
      },
      "execution_count": null,
      "outputs": []
    }
  ]
}